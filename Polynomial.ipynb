{
 "cells": [
  {
   "cell_type": "markdown",
   "id": "8519521c-9b2b-4d11-916c-77a9c9b674ad",
   "metadata": {},
   "source": [
    "# Data Import\n",
    "This section covers importing data from various sources."
   ]
  },
  {
   "cell_type": "code",
   "execution_count": 20,
   "id": "a09b0e7e-f523-4152-9f11-9cdfe60fbcdf",
   "metadata": {},
   "outputs": [],
   "source": [
    "import pandas as pd\n",
    "from sklearn.model_selection import train_test_split\n",
    "from sklearn.preprocessing import PolynomialFeatures\n",
    "from sklearn.linear_model import LinearRegression\n",
    "from sklearn.metrics import mean_squared_error, mean_absolute_error, r2_score\n",
    "import numpy as np\n",
    "import matplotlib.pyplot as plt"
   ]
  },
  {
   "cell_type": "markdown",
   "id": "1a844d36-6a27-4a39-a6c0-60b2d4a856ae",
   "metadata": {},
   "source": [
    "### Data Loading and Initial Exploration\n",
    "\n",
    "In this section, we load the S&P 500 index data from a CSV file and display the first and last few rows to understand the dataset's structure.\n"
   ]
  },
  {
   "cell_type": "code",
   "execution_count": 21,
   "id": "450b82dd-f46d-4366-9f1a-9b9027af9647",
   "metadata": {},
   "outputs": [],
   "source": [
    "# import yfinance as yf\n",
    "# df = yf.download('^SPX', start ='1995-12-27')\n",
    "\n",
    "df = pd.read_csv('SPX1995.csv')"
   ]
  },
  {
   "cell_type": "code",
   "execution_count": 22,
   "id": "34cf6af5-dd6a-433e-a721-014e81be30c4",
   "metadata": {},
   "outputs": [
    {
     "data": {
      "text/html": [
       "<div>\n",
       "<style scoped>\n",
       "    .dataframe tbody tr th:only-of-type {\n",
       "        vertical-align: middle;\n",
       "    }\n",
       "\n",
       "    .dataframe tbody tr th {\n",
       "        vertical-align: top;\n",
       "    }\n",
       "\n",
       "    .dataframe thead th {\n",
       "        text-align: right;\n",
       "    }\n",
       "</style>\n",
       "<table border=\"1\" class=\"dataframe\">\n",
       "  <thead>\n",
       "    <tr style=\"text-align: right;\">\n",
       "      <th></th>\n",
       "      <th>Date</th>\n",
       "      <th>Open</th>\n",
       "      <th>High</th>\n",
       "      <th>Low</th>\n",
       "      <th>Close</th>\n",
       "      <th>Adj Close</th>\n",
       "      <th>Volume</th>\n",
       "    </tr>\n",
       "  </thead>\n",
       "  <tbody>\n",
       "    <tr>\n",
       "      <th>0</th>\n",
       "      <td>1995-01-03</td>\n",
       "      <td>459.209991</td>\n",
       "      <td>459.269989</td>\n",
       "      <td>457.200012</td>\n",
       "      <td>459.109985</td>\n",
       "      <td>459.109985</td>\n",
       "      <td>262450000</td>\n",
       "    </tr>\n",
       "    <tr>\n",
       "      <th>1</th>\n",
       "      <td>1995-01-04</td>\n",
       "      <td>459.130005</td>\n",
       "      <td>460.720001</td>\n",
       "      <td>457.559998</td>\n",
       "      <td>460.709991</td>\n",
       "      <td>460.709991</td>\n",
       "      <td>319510000</td>\n",
       "    </tr>\n",
       "    <tr>\n",
       "      <th>2</th>\n",
       "      <td>1995-01-05</td>\n",
       "      <td>460.730011</td>\n",
       "      <td>461.299988</td>\n",
       "      <td>459.750000</td>\n",
       "      <td>460.339996</td>\n",
       "      <td>460.339996</td>\n",
       "      <td>309050000</td>\n",
       "    </tr>\n",
       "    <tr>\n",
       "      <th>3</th>\n",
       "      <td>1995-01-06</td>\n",
       "      <td>460.380005</td>\n",
       "      <td>462.489990</td>\n",
       "      <td>459.470001</td>\n",
       "      <td>460.679993</td>\n",
       "      <td>460.679993</td>\n",
       "      <td>308070000</td>\n",
       "    </tr>\n",
       "    <tr>\n",
       "      <th>4</th>\n",
       "      <td>1995-01-09</td>\n",
       "      <td>460.670013</td>\n",
       "      <td>461.769989</td>\n",
       "      <td>459.739990</td>\n",
       "      <td>460.829987</td>\n",
       "      <td>460.829987</td>\n",
       "      <td>278790000</td>\n",
       "    </tr>\n",
       "  </tbody>\n",
       "</table>\n",
       "</div>"
      ],
      "text/plain": [
       "         Date        Open        High         Low       Close   Adj Close  \\\n",
       "0  1995-01-03  459.209991  459.269989  457.200012  459.109985  459.109985   \n",
       "1  1995-01-04  459.130005  460.720001  457.559998  460.709991  460.709991   \n",
       "2  1995-01-05  460.730011  461.299988  459.750000  460.339996  460.339996   \n",
       "3  1995-01-06  460.380005  462.489990  459.470001  460.679993  460.679993   \n",
       "4  1995-01-09  460.670013  461.769989  459.739990  460.829987  460.829987   \n",
       "\n",
       "      Volume  \n",
       "0  262450000  \n",
       "1  319510000  \n",
       "2  309050000  \n",
       "3  308070000  \n",
       "4  278790000  "
      ]
     },
     "execution_count": 22,
     "metadata": {},
     "output_type": "execute_result"
    }
   ],
   "source": [
    "df.head()"
   ]
  },
  {
   "cell_type": "code",
   "execution_count": 23,
   "id": "dc3a70d3-62bb-480a-8893-ffa2333a6eea",
   "metadata": {},
   "outputs": [
    {
     "data": {
      "text/html": [
       "<div>\n",
       "<style scoped>\n",
       "    .dataframe tbody tr th:only-of-type {\n",
       "        vertical-align: middle;\n",
       "    }\n",
       "\n",
       "    .dataframe tbody tr th {\n",
       "        vertical-align: top;\n",
       "    }\n",
       "\n",
       "    .dataframe thead th {\n",
       "        text-align: right;\n",
       "    }\n",
       "</style>\n",
       "<table border=\"1\" class=\"dataframe\">\n",
       "  <thead>\n",
       "    <tr style=\"text-align: right;\">\n",
       "      <th></th>\n",
       "      <th>Date</th>\n",
       "      <th>Open</th>\n",
       "      <th>High</th>\n",
       "      <th>Low</th>\n",
       "      <th>Close</th>\n",
       "      <th>Adj Close</th>\n",
       "      <th>Volume</th>\n",
       "    </tr>\n",
       "  </thead>\n",
       "  <tbody>\n",
       "    <tr>\n",
       "      <th>7336</th>\n",
       "      <td>2024-02-23</td>\n",
       "      <td>5100.919922</td>\n",
       "      <td>5111.060059</td>\n",
       "      <td>5081.459961</td>\n",
       "      <td>5088.799805</td>\n",
       "      <td>5088.799805</td>\n",
       "      <td>3672790000</td>\n",
       "    </tr>\n",
       "    <tr>\n",
       "      <th>7337</th>\n",
       "      <td>2024-02-26</td>\n",
       "      <td>5093.000000</td>\n",
       "      <td>5097.660156</td>\n",
       "      <td>5068.910156</td>\n",
       "      <td>5069.529785</td>\n",
       "      <td>5069.529785</td>\n",
       "      <td>3683930000</td>\n",
       "    </tr>\n",
       "    <tr>\n",
       "      <th>7338</th>\n",
       "      <td>2024-02-27</td>\n",
       "      <td>5074.600098</td>\n",
       "      <td>5080.689941</td>\n",
       "      <td>5057.290039</td>\n",
       "      <td>5078.180176</td>\n",
       "      <td>5078.180176</td>\n",
       "      <td>3925950000</td>\n",
       "    </tr>\n",
       "    <tr>\n",
       "      <th>7339</th>\n",
       "      <td>2024-02-28</td>\n",
       "      <td>5067.200195</td>\n",
       "      <td>5077.370117</td>\n",
       "      <td>5058.350098</td>\n",
       "      <td>5069.759766</td>\n",
       "      <td>5069.759766</td>\n",
       "      <td>3789370000</td>\n",
       "    </tr>\n",
       "    <tr>\n",
       "      <th>7340</th>\n",
       "      <td>2024-02-29</td>\n",
       "      <td>5085.359863</td>\n",
       "      <td>5104.990234</td>\n",
       "      <td>5061.890137</td>\n",
       "      <td>5096.270020</td>\n",
       "      <td>5096.270020</td>\n",
       "      <td>5219740000</td>\n",
       "    </tr>\n",
       "  </tbody>\n",
       "</table>\n",
       "</div>"
      ],
      "text/plain": [
       "            Date         Open         High          Low        Close  \\\n",
       "7336  2024-02-23  5100.919922  5111.060059  5081.459961  5088.799805   \n",
       "7337  2024-02-26  5093.000000  5097.660156  5068.910156  5069.529785   \n",
       "7338  2024-02-27  5074.600098  5080.689941  5057.290039  5078.180176   \n",
       "7339  2024-02-28  5067.200195  5077.370117  5058.350098  5069.759766   \n",
       "7340  2024-02-29  5085.359863  5104.990234  5061.890137  5096.270020   \n",
       "\n",
       "        Adj Close      Volume  \n",
       "7336  5088.799805  3672790000  \n",
       "7337  5069.529785  3683930000  \n",
       "7338  5078.180176  3925950000  \n",
       "7339  5069.759766  3789370000  \n",
       "7340  5096.270020  5219740000  "
      ]
     },
     "execution_count": 23,
     "metadata": {},
     "output_type": "execute_result"
    }
   ],
   "source": [
    "df.tail()"
   ]
  },
  {
   "cell_type": "code",
   "execution_count": 24,
   "id": "21184530-f5c3-43d6-9c54-65da414a6f8d",
   "metadata": {},
   "outputs": [
    {
     "data": {
      "text/plain": [
       "(7341, 7)"
      ]
     },
     "execution_count": 24,
     "metadata": {},
     "output_type": "execute_result"
    }
   ],
   "source": [
    "df.shape"
   ]
  },
  {
   "cell_type": "raw",
   "id": "34c0b28d-7c15-401b-be8e-7f0967411e39",
   "metadata": {},
   "source": []
  },
  {
   "cell_type": "code",
   "execution_count": 25,
   "id": "4a5d6d77-4a86-4f0a-9296-6686336f968f",
   "metadata": {},
   "outputs": [
    {
     "data": {
      "text/html": [
       "<div>\n",
       "<style scoped>\n",
       "    .dataframe tbody tr th:only-of-type {\n",
       "        vertical-align: middle;\n",
       "    }\n",
       "\n",
       "    .dataframe tbody tr th {\n",
       "        vertical-align: top;\n",
       "    }\n",
       "\n",
       "    .dataframe thead th {\n",
       "        text-align: right;\n",
       "    }\n",
       "</style>\n",
       "<table border=\"1\" class=\"dataframe\">\n",
       "  <thead>\n",
       "    <tr style=\"text-align: right;\">\n",
       "      <th></th>\n",
       "      <th>Date</th>\n",
       "      <th>Open</th>\n",
       "      <th>High</th>\n",
       "      <th>Low</th>\n",
       "      <th>Close</th>\n",
       "      <th>Adj Close</th>\n",
       "      <th>Volume</th>\n",
       "    </tr>\n",
       "  </thead>\n",
       "  <tbody>\n",
       "    <tr>\n",
       "      <th>0</th>\n",
       "      <td>1995-01-03</td>\n",
       "      <td>459.209991</td>\n",
       "      <td>459.269989</td>\n",
       "      <td>457.200012</td>\n",
       "      <td>459.109985</td>\n",
       "      <td>459.109985</td>\n",
       "      <td>262450000</td>\n",
       "    </tr>\n",
       "    <tr>\n",
       "      <th>1</th>\n",
       "      <td>1995-01-04</td>\n",
       "      <td>459.130005</td>\n",
       "      <td>460.720001</td>\n",
       "      <td>457.559998</td>\n",
       "      <td>460.709991</td>\n",
       "      <td>460.709991</td>\n",
       "      <td>319510000</td>\n",
       "    </tr>\n",
       "    <tr>\n",
       "      <th>2</th>\n",
       "      <td>1995-01-05</td>\n",
       "      <td>460.730011</td>\n",
       "      <td>461.299988</td>\n",
       "      <td>459.750000</td>\n",
       "      <td>460.339996</td>\n",
       "      <td>460.339996</td>\n",
       "      <td>309050000</td>\n",
       "    </tr>\n",
       "    <tr>\n",
       "      <th>3</th>\n",
       "      <td>1995-01-06</td>\n",
       "      <td>460.380005</td>\n",
       "      <td>462.489990</td>\n",
       "      <td>459.470001</td>\n",
       "      <td>460.679993</td>\n",
       "      <td>460.679993</td>\n",
       "      <td>308070000</td>\n",
       "    </tr>\n",
       "    <tr>\n",
       "      <th>4</th>\n",
       "      <td>1995-01-09</td>\n",
       "      <td>460.670013</td>\n",
       "      <td>461.769989</td>\n",
       "      <td>459.739990</td>\n",
       "      <td>460.829987</td>\n",
       "      <td>460.829987</td>\n",
       "      <td>278790000</td>\n",
       "    </tr>\n",
       "    <tr>\n",
       "      <th>...</th>\n",
       "      <td>...</td>\n",
       "      <td>...</td>\n",
       "      <td>...</td>\n",
       "      <td>...</td>\n",
       "      <td>...</td>\n",
       "      <td>...</td>\n",
       "      <td>...</td>\n",
       "    </tr>\n",
       "    <tr>\n",
       "      <th>7336</th>\n",
       "      <td>2024-02-23</td>\n",
       "      <td>5100.919922</td>\n",
       "      <td>5111.060059</td>\n",
       "      <td>5081.459961</td>\n",
       "      <td>5088.799805</td>\n",
       "      <td>5088.799805</td>\n",
       "      <td>3672790000</td>\n",
       "    </tr>\n",
       "    <tr>\n",
       "      <th>7337</th>\n",
       "      <td>2024-02-26</td>\n",
       "      <td>5093.000000</td>\n",
       "      <td>5097.660156</td>\n",
       "      <td>5068.910156</td>\n",
       "      <td>5069.529785</td>\n",
       "      <td>5069.529785</td>\n",
       "      <td>3683930000</td>\n",
       "    </tr>\n",
       "    <tr>\n",
       "      <th>7338</th>\n",
       "      <td>2024-02-27</td>\n",
       "      <td>5074.600098</td>\n",
       "      <td>5080.689941</td>\n",
       "      <td>5057.290039</td>\n",
       "      <td>5078.180176</td>\n",
       "      <td>5078.180176</td>\n",
       "      <td>3925950000</td>\n",
       "    </tr>\n",
       "    <tr>\n",
       "      <th>7339</th>\n",
       "      <td>2024-02-28</td>\n",
       "      <td>5067.200195</td>\n",
       "      <td>5077.370117</td>\n",
       "      <td>5058.350098</td>\n",
       "      <td>5069.759766</td>\n",
       "      <td>5069.759766</td>\n",
       "      <td>3789370000</td>\n",
       "    </tr>\n",
       "    <tr>\n",
       "      <th>7340</th>\n",
       "      <td>2024-02-29</td>\n",
       "      <td>5085.359863</td>\n",
       "      <td>5104.990234</td>\n",
       "      <td>5061.890137</td>\n",
       "      <td>5096.270020</td>\n",
       "      <td>5096.270020</td>\n",
       "      <td>5219740000</td>\n",
       "    </tr>\n",
       "  </tbody>\n",
       "</table>\n",
       "<p>7341 rows × 7 columns</p>\n",
       "</div>"
      ],
      "text/plain": [
       "            Date         Open         High          Low        Close  \\\n",
       "0     1995-01-03   459.209991   459.269989   457.200012   459.109985   \n",
       "1     1995-01-04   459.130005   460.720001   457.559998   460.709991   \n",
       "2     1995-01-05   460.730011   461.299988   459.750000   460.339996   \n",
       "3     1995-01-06   460.380005   462.489990   459.470001   460.679993   \n",
       "4     1995-01-09   460.670013   461.769989   459.739990   460.829987   \n",
       "...          ...          ...          ...          ...          ...   \n",
       "7336  2024-02-23  5100.919922  5111.060059  5081.459961  5088.799805   \n",
       "7337  2024-02-26  5093.000000  5097.660156  5068.910156  5069.529785   \n",
       "7338  2024-02-27  5074.600098  5080.689941  5057.290039  5078.180176   \n",
       "7339  2024-02-28  5067.200195  5077.370117  5058.350098  5069.759766   \n",
       "7340  2024-02-29  5085.359863  5104.990234  5061.890137  5096.270020   \n",
       "\n",
       "        Adj Close      Volume  \n",
       "0      459.109985   262450000  \n",
       "1      460.709991   319510000  \n",
       "2      460.339996   309050000  \n",
       "3      460.679993   308070000  \n",
       "4      460.829987   278790000  \n",
       "...           ...         ...  \n",
       "7336  5088.799805  3672790000  \n",
       "7337  5069.529785  3683930000  \n",
       "7338  5078.180176  3925950000  \n",
       "7339  5069.759766  3789370000  \n",
       "7340  5096.270020  5219740000  \n",
       "\n",
       "[7341 rows x 7 columns]"
      ]
     },
     "execution_count": 25,
     "metadata": {},
     "output_type": "execute_result"
    }
   ],
   "source": [
    "df"
   ]
  },
  {
   "cell_type": "markdown",
   "id": "dac0316f-03bc-4831-99ef-b478a91e4e8e",
   "metadata": {},
   "source": [
    "### Data Cleaning: Handling Missing Values and Duplicates\n",
    "\n",
    "This section focuses on identifying and addressing any missing or duplicated data entries to ensure the quality and reliability of the dataset for further analysis.\n"
   ]
  },
  {
   "cell_type": "code",
   "execution_count": 26,
   "id": "5a5bcc92-403c-4b14-b2cb-78b783d0e345",
   "metadata": {},
   "outputs": [
    {
     "name": "stdout",
     "output_type": "stream",
     "text": [
      "Missing values in each column:\n",
      " Date         0\n",
      "Open         0\n",
      "High         0\n",
      "Low          0\n",
      "Close        0\n",
      "Adj Close    0\n",
      "Volume       0\n",
      "dtype: int64\n",
      "\n",
      " \n",
      " duplicated values :   False\n"
     ]
    }
   ],
   "source": [
    "missing_values = df.isnull().sum()\n",
    "df_duplicated= df.duplicated().sum().any()\n",
    "\n",
    "# here we drop rows if there is missing values \n",
    "df_cleaned = df.dropna()\n",
    "\n",
    "print(\"Missing values in each column:\\n\", missing_values)\n",
    "print(\"\\n \\n duplicated values :  \", df_duplicated)"
   ]
  },
  {
   "cell_type": "raw",
   "id": "1a1665b1-96c2-49ee-a348-5d8ac17c86ed",
   "metadata": {},
   "source": []
  },
  {
   "cell_type": "markdown",
   "id": "7451edc7-b2f8-497b-8c14-7da868ed1a0d",
   "metadata": {},
   "source": [
    "### Column Removal\n",
    "\n",
    "In this section, we remove columns from the dataset that are not needed for our analysis."
   ]
  },
  {
   "cell_type": "code",
   "execution_count": 27,
   "id": "e1384f0b-d17a-46fa-ac0b-2407af60cb9f",
   "metadata": {},
   "outputs": [
    {
     "data": {
      "text/html": [
       "<div>\n",
       "<style scoped>\n",
       "    .dataframe tbody tr th:only-of-type {\n",
       "        vertical-align: middle;\n",
       "    }\n",
       "\n",
       "    .dataframe tbody tr th {\n",
       "        vertical-align: top;\n",
       "    }\n",
       "\n",
       "    .dataframe thead th {\n",
       "        text-align: right;\n",
       "    }\n",
       "</style>\n",
       "<table border=\"1\" class=\"dataframe\">\n",
       "  <thead>\n",
       "    <tr style=\"text-align: right;\">\n",
       "      <th></th>\n",
       "      <th>Date</th>\n",
       "      <th>Open</th>\n",
       "      <th>High</th>\n",
       "      <th>Low</th>\n",
       "      <th>Close</th>\n",
       "      <th>Volume</th>\n",
       "    </tr>\n",
       "  </thead>\n",
       "  <tbody>\n",
       "    <tr>\n",
       "      <th>0</th>\n",
       "      <td>1995-01-03</td>\n",
       "      <td>459.209991</td>\n",
       "      <td>459.269989</td>\n",
       "      <td>457.200012</td>\n",
       "      <td>459.109985</td>\n",
       "      <td>262450000</td>\n",
       "    </tr>\n",
       "    <tr>\n",
       "      <th>1</th>\n",
       "      <td>1995-01-04</td>\n",
       "      <td>459.130005</td>\n",
       "      <td>460.720001</td>\n",
       "      <td>457.559998</td>\n",
       "      <td>460.709991</td>\n",
       "      <td>319510000</td>\n",
       "    </tr>\n",
       "    <tr>\n",
       "      <th>2</th>\n",
       "      <td>1995-01-05</td>\n",
       "      <td>460.730011</td>\n",
       "      <td>461.299988</td>\n",
       "      <td>459.750000</td>\n",
       "      <td>460.339996</td>\n",
       "      <td>309050000</td>\n",
       "    </tr>\n",
       "    <tr>\n",
       "      <th>3</th>\n",
       "      <td>1995-01-06</td>\n",
       "      <td>460.380005</td>\n",
       "      <td>462.489990</td>\n",
       "      <td>459.470001</td>\n",
       "      <td>460.679993</td>\n",
       "      <td>308070000</td>\n",
       "    </tr>\n",
       "    <tr>\n",
       "      <th>4</th>\n",
       "      <td>1995-01-09</td>\n",
       "      <td>460.670013</td>\n",
       "      <td>461.769989</td>\n",
       "      <td>459.739990</td>\n",
       "      <td>460.829987</td>\n",
       "      <td>278790000</td>\n",
       "    </tr>\n",
       "    <tr>\n",
       "      <th>...</th>\n",
       "      <td>...</td>\n",
       "      <td>...</td>\n",
       "      <td>...</td>\n",
       "      <td>...</td>\n",
       "      <td>...</td>\n",
       "      <td>...</td>\n",
       "    </tr>\n",
       "    <tr>\n",
       "      <th>7336</th>\n",
       "      <td>2024-02-23</td>\n",
       "      <td>5100.919922</td>\n",
       "      <td>5111.060059</td>\n",
       "      <td>5081.459961</td>\n",
       "      <td>5088.799805</td>\n",
       "      <td>3672790000</td>\n",
       "    </tr>\n",
       "    <tr>\n",
       "      <th>7337</th>\n",
       "      <td>2024-02-26</td>\n",
       "      <td>5093.000000</td>\n",
       "      <td>5097.660156</td>\n",
       "      <td>5068.910156</td>\n",
       "      <td>5069.529785</td>\n",
       "      <td>3683930000</td>\n",
       "    </tr>\n",
       "    <tr>\n",
       "      <th>7338</th>\n",
       "      <td>2024-02-27</td>\n",
       "      <td>5074.600098</td>\n",
       "      <td>5080.689941</td>\n",
       "      <td>5057.290039</td>\n",
       "      <td>5078.180176</td>\n",
       "      <td>3925950000</td>\n",
       "    </tr>\n",
       "    <tr>\n",
       "      <th>7339</th>\n",
       "      <td>2024-02-28</td>\n",
       "      <td>5067.200195</td>\n",
       "      <td>5077.370117</td>\n",
       "      <td>5058.350098</td>\n",
       "      <td>5069.759766</td>\n",
       "      <td>3789370000</td>\n",
       "    </tr>\n",
       "    <tr>\n",
       "      <th>7340</th>\n",
       "      <td>2024-02-29</td>\n",
       "      <td>5085.359863</td>\n",
       "      <td>5104.990234</td>\n",
       "      <td>5061.890137</td>\n",
       "      <td>5096.270020</td>\n",
       "      <td>5219740000</td>\n",
       "    </tr>\n",
       "  </tbody>\n",
       "</table>\n",
       "<p>7341 rows × 6 columns</p>\n",
       "</div>"
      ],
      "text/plain": [
       "            Date         Open         High          Low        Close  \\\n",
       "0     1995-01-03   459.209991   459.269989   457.200012   459.109985   \n",
       "1     1995-01-04   459.130005   460.720001   457.559998   460.709991   \n",
       "2     1995-01-05   460.730011   461.299988   459.750000   460.339996   \n",
       "3     1995-01-06   460.380005   462.489990   459.470001   460.679993   \n",
       "4     1995-01-09   460.670013   461.769989   459.739990   460.829987   \n",
       "...          ...          ...          ...          ...          ...   \n",
       "7336  2024-02-23  5100.919922  5111.060059  5081.459961  5088.799805   \n",
       "7337  2024-02-26  5093.000000  5097.660156  5068.910156  5069.529785   \n",
       "7338  2024-02-27  5074.600098  5080.689941  5057.290039  5078.180176   \n",
       "7339  2024-02-28  5067.200195  5077.370117  5058.350098  5069.759766   \n",
       "7340  2024-02-29  5085.359863  5104.990234  5061.890137  5096.270020   \n",
       "\n",
       "          Volume  \n",
       "0      262450000  \n",
       "1      319510000  \n",
       "2      309050000  \n",
       "3      308070000  \n",
       "4      278790000  \n",
       "...          ...  \n",
       "7336  3672790000  \n",
       "7337  3683930000  \n",
       "7338  3925950000  \n",
       "7339  3789370000  \n",
       "7340  5219740000  \n",
       "\n",
       "[7341 rows x 6 columns]"
      ]
     },
     "execution_count": 27,
     "metadata": {},
     "output_type": "execute_result"
    }
   ],
   "source": [
    "columns_to_drop = ['Adj Close'] \n",
    "df = df.drop(columns_to_drop, axis=1)\n",
    "df"
   ]
  },
  {
   "cell_type": "raw",
   "id": "9cd72245-43ef-4746-887a-17ecd5445c2c",
   "metadata": {},
   "source": []
  },
  {
   "cell_type": "markdown",
   "id": "781a75ac-07c0-4d64-9e82-3f82f72044b7",
   "metadata": {},
   "source": [
    "\n",
    "\n",
    "### Visualization of S&P 500 Stock Prices\n",
    "\n",
    "In this section, we convert the 'Date' column to datetime format for proper indexing and plot the S&P 500 closing and opening prices over time to visualize trends and patterns in the data.\n"
   ]
  },
  {
   "cell_type": "code",
   "execution_count": 28,
   "id": "2761a68d-5482-420f-805b-f4d932370db7",
   "metadata": {},
   "outputs": [
    {
     "ename": "ModuleNotFoundError",
     "evalue": "No module named 'seaborn'",
     "output_type": "error",
     "traceback": [
      "\u001b[31m---------------------------------------------------------------------------\u001b[39m",
      "\u001b[31mModuleNotFoundError\u001b[39m                       Traceback (most recent call last)",
      "\u001b[36mCell\u001b[39m\u001b[36m \u001b[39m\u001b[32mIn[28]\u001b[39m\u001b[32m, line 2\u001b[39m\n\u001b[32m      1\u001b[39m \u001b[38;5;28;01mimport\u001b[39;00m\u001b[38;5;250m \u001b[39m\u001b[34;01mmatplotlib\u001b[39;00m\u001b[34;01m.\u001b[39;00m\u001b[34;01mpyplot\u001b[39;00m\u001b[38;5;250m \u001b[39m\u001b[38;5;28;01mas\u001b[39;00m\u001b[38;5;250m \u001b[39m\u001b[34;01mplt\u001b[39;00m\n\u001b[32m----> \u001b[39m\u001b[32m2\u001b[39m \u001b[38;5;28;01mimport\u001b[39;00m\u001b[38;5;250m \u001b[39m\u001b[34;01mseaborn\u001b[39;00m\u001b[38;5;250m \u001b[39m\u001b[38;5;28;01mas\u001b[39;00m\u001b[38;5;250m \u001b[39m\u001b[34;01msns\u001b[39;00m\n\u001b[32m      4\u001b[39m \u001b[38;5;66;03m# Set the style of seaborn\u001b[39;00m\n\u001b[32m      5\u001b[39m sns.set(style=\u001b[33m'\u001b[39m\u001b[33mdarkgrid\u001b[39m\u001b[33m'\u001b[39m)\n",
      "\u001b[31mModuleNotFoundError\u001b[39m: No module named 'seaborn'"
     ]
    }
   ],
   "source": [
    "import matplotlib.pyplot as plt\n",
    "import seaborn as sns\n",
    "\n",
    "# Set the style of seaborn\n",
    "sns.set(style='darkgrid')\n",
    "\n",
    "# Convert 'Date' to datetime \n",
    "df['Date'] = pd.to_datetime(df['Date'])\n",
    "\n",
    "# Plotting the closing prices against the date\n",
    "plt.figure(figsize=(14, 7))\n",
    "plt.plot(df['Date'], df['Close'], label='Close Price')\n",
    "\n",
    "plt.plot(df['Date'], df['Open'], label='Open Price', alpha=0.5)\n",
    "\n",
    "\n",
    "# Labels and Title\n",
    "plt.xlabel('Date')\n",
    "plt.ylabel('Price')\n",
    "plt.title('S&P 500 Stock Prices')\n",
    "plt.legend()\n",
    "\n",
    "# Show plot\n",
    "plt.show()\n"
   ]
  },
  {
   "cell_type": "raw",
   "id": "21445fd4-087c-4c08-b747-c4cd6b71d642",
   "metadata": {},
   "source": []
  },
  {
   "cell_type": "markdown",
   "id": "7243242a-c5b8-4dd4-8494-d8577f26d5f3",
   "metadata": {},
   "source": [
    "### Feature Preparation\n",
    "\n",
    "Preparing the dataset for modeling by selecting the 'Open' and 'Volume' as features and 'Close' as the target variable. Converting 'Date' to a numerical format for use in polynomial features.\n"
   ]
  },
  {
   "cell_type": "code",
   "execution_count": null,
   "id": "fce627df-ef04-4cfe-83b2-7123c201a0e7",
   "metadata": {},
   "outputs": [],
   "source": [
    "\n",
    "# features = [ 'Open', 'High', 'Low', 'Volume']\n",
    "# target = 'Close'\n",
    "\n",
    "# # We split the data into features and target\n",
    "# X = df[features]\n",
    "# y = df[target]\n",
    "\n",
    "\n",
    "X = df[['Open', 'High', 'Low', 'Volume']] \n",
    "y = df['Close']  \n",
    "\n",
    "\n"
   ]
  },
  {
   "cell_type": "raw",
   "id": "641f4b69-dbab-4501-93b2-751593fc375a",
   "metadata": {},
   "source": []
  },
  {
   "cell_type": "code",
   "execution_count": null,
   "id": "7f908ab1-f5d8-4425-a15e-88708ef622f0",
   "metadata": {},
   "outputs": [],
   "source": []
  },
  {
   "cell_type": "markdown",
   "id": "afda0d73-d665-44f9-acd8-964d239ff65b",
   "metadata": {},
   "source": [
    "### Data Splitting\n",
    "\n",
    "Dividing the data into training and test sets to validate the performance of our model. Ensuring a fair distribution without shuffling due to the time-series nature of the data.\n"
   ]
  },
  {
   "cell_type": "code",
   "execution_count": null,
   "id": "a80d12cd-0100-488e-980b-d7590e588a46",
   "metadata": {},
   "outputs": [
    {
     "name": "stdout",
     "output_type": "stream",
     "text": [
      "the train data: -->  (5872, 15)\n",
      "the test data: -->  (1469, 15)\n"
     ]
    }
   ],
   "source": [
    "\n",
    "#df['Date_ordinal'] = df['Date'].apply(lambda date: date.toordinal())\n",
    "\n",
    "degree = 2\n",
    "poly_features = PolynomialFeatures(degree=degree)\n",
    "\n",
    "X_poly = poly_features.fit_transform(X)\n",
    "\n",
    "# we Save the indexes before the split\n",
    "original_indexes = df.index\n",
    "\n",
    "# here we split the dataset into training and testing sets\n",
    "X_train, X_test, y_train, y_test = train_test_split(X_poly, df['Close'], test_size=0.2, shuffle=False)\n",
    "\n",
    "print(\"the train data: --> \", X_train.shape)\n",
    "print(\"the test data: --> \", X_test.shape)\n",
    "\n"
   ]
  },
  {
   "cell_type": "raw",
   "id": "8fa93686-61cb-4225-95f5-3132de0c5a22",
   "metadata": {},
   "source": []
  },
  {
   "cell_type": "markdown",
   "id": "3b25cbeb-03c0-461e-8022-d9dd223c62e7",
   "metadata": {},
   "source": [
    "### Model Initialization and Fitting\n",
    "\n",
    "Initializing the Linear Regression model and fitting it to the polynomial-transformed training data to capture non-linear patterns in stock prices.\n"
   ]
  },
  {
   "cell_type": "code",
   "execution_count": null,
   "id": "647a26a9-3c7f-4342-8961-4cd9f355d663",
   "metadata": {},
   "outputs": [
    {
     "data": {
      "text/html": [
       "<style>#sk-container-id-1 {color: black;background-color: white;}#sk-container-id-1 pre{padding: 0;}#sk-container-id-1 div.sk-toggleable {background-color: white;}#sk-container-id-1 label.sk-toggleable__label {cursor: pointer;display: block;width: 100%;margin-bottom: 0;padding: 0.3em;box-sizing: border-box;text-align: center;}#sk-container-id-1 label.sk-toggleable__label-arrow:before {content: \"▸\";float: left;margin-right: 0.25em;color: #696969;}#sk-container-id-1 label.sk-toggleable__label-arrow:hover:before {color: black;}#sk-container-id-1 div.sk-estimator:hover label.sk-toggleable__label-arrow:before {color: black;}#sk-container-id-1 div.sk-toggleable__content {max-height: 0;max-width: 0;overflow: hidden;text-align: left;background-color: #f0f8ff;}#sk-container-id-1 div.sk-toggleable__content pre {margin: 0.2em;color: black;border-radius: 0.25em;background-color: #f0f8ff;}#sk-container-id-1 input.sk-toggleable__control:checked~div.sk-toggleable__content {max-height: 200px;max-width: 100%;overflow: auto;}#sk-container-id-1 input.sk-toggleable__control:checked~label.sk-toggleable__label-arrow:before {content: \"▾\";}#sk-container-id-1 div.sk-estimator input.sk-toggleable__control:checked~label.sk-toggleable__label {background-color: #d4ebff;}#sk-container-id-1 div.sk-label input.sk-toggleable__control:checked~label.sk-toggleable__label {background-color: #d4ebff;}#sk-container-id-1 input.sk-hidden--visually {border: 0;clip: rect(1px 1px 1px 1px);clip: rect(1px, 1px, 1px, 1px);height: 1px;margin: -1px;overflow: hidden;padding: 0;position: absolute;width: 1px;}#sk-container-id-1 div.sk-estimator {font-family: monospace;background-color: #f0f8ff;border: 1px dotted black;border-radius: 0.25em;box-sizing: border-box;margin-bottom: 0.5em;}#sk-container-id-1 div.sk-estimator:hover {background-color: #d4ebff;}#sk-container-id-1 div.sk-parallel-item::after {content: \"\";width: 100%;border-bottom: 1px solid gray;flex-grow: 1;}#sk-container-id-1 div.sk-label:hover label.sk-toggleable__label {background-color: #d4ebff;}#sk-container-id-1 div.sk-serial::before {content: \"\";position: absolute;border-left: 1px solid gray;box-sizing: border-box;top: 0;bottom: 0;left: 50%;z-index: 0;}#sk-container-id-1 div.sk-serial {display: flex;flex-direction: column;align-items: center;background-color: white;padding-right: 0.2em;padding-left: 0.2em;position: relative;}#sk-container-id-1 div.sk-item {position: relative;z-index: 1;}#sk-container-id-1 div.sk-parallel {display: flex;align-items: stretch;justify-content: center;background-color: white;position: relative;}#sk-container-id-1 div.sk-item::before, #sk-container-id-1 div.sk-parallel-item::before {content: \"\";position: absolute;border-left: 1px solid gray;box-sizing: border-box;top: 0;bottom: 0;left: 50%;z-index: -1;}#sk-container-id-1 div.sk-parallel-item {display: flex;flex-direction: column;z-index: 1;position: relative;background-color: white;}#sk-container-id-1 div.sk-parallel-item:first-child::after {align-self: flex-end;width: 50%;}#sk-container-id-1 div.sk-parallel-item:last-child::after {align-self: flex-start;width: 50%;}#sk-container-id-1 div.sk-parallel-item:only-child::after {width: 0;}#sk-container-id-1 div.sk-dashed-wrapped {border: 1px dashed gray;margin: 0 0.4em 0.5em 0.4em;box-sizing: border-box;padding-bottom: 0.4em;background-color: white;}#sk-container-id-1 div.sk-label label {font-family: monospace;font-weight: bold;display: inline-block;line-height: 1.2em;}#sk-container-id-1 div.sk-label-container {text-align: center;}#sk-container-id-1 div.sk-container {/* jupyter's `normalize.less` sets `[hidden] { display: none; }` but bootstrap.min.css set `[hidden] { display: none !important; }` so we also need the `!important` here to be able to override the default hidden behavior on the sphinx rendered scikit-learn.org. See: https://github.com/scikit-learn/scikit-learn/issues/21755 */display: inline-block !important;position: relative;}#sk-container-id-1 div.sk-text-repr-fallback {display: none;}</style><div id=\"sk-container-id-1\" class=\"sk-top-container\"><div class=\"sk-text-repr-fallback\"><pre>LinearRegression()</pre><b>In a Jupyter environment, please rerun this cell to show the HTML representation or trust the notebook. <br />On GitHub, the HTML representation is unable to render, please try loading this page with nbviewer.org.</b></div><div class=\"sk-container\" hidden><div class=\"sk-item\"><div class=\"sk-estimator sk-toggleable\"><input class=\"sk-toggleable__control sk-hidden--visually\" id=\"sk-estimator-id-1\" type=\"checkbox\" checked><label for=\"sk-estimator-id-1\" class=\"sk-toggleable__label sk-toggleable__label-arrow\">LinearRegression</label><div class=\"sk-toggleable__content\"><pre>LinearRegression()</pre></div></div></div></div></div>"
      ],
      "text/plain": [
       "LinearRegression()"
      ]
     },
     "execution_count": 12,
     "metadata": {},
     "output_type": "execute_result"
    }
   ],
   "source": [
    "# Initialize the Linear Regression model\n",
    "model = LinearRegression()\n",
    "\n",
    "# Fit the model to the training data\n",
    "model.fit(X_train, y_train)"
   ]
  },
  {
   "cell_type": "raw",
   "id": "bbdd1eec-5441-4d53-858b-b6f231368fde",
   "metadata": {},
   "source": []
  },
  {
   "cell_type": "markdown",
   "id": "225dfa4c-1d47-46cf-adb5-c0620f60928c",
   "metadata": {},
   "source": [
    "### Preparing Index Alignment Before Making Predictions\n",
    "\n",
    "Before making predictions, it's important to retrieve and store the original indexes of our training and testing sets. This allows us to maintain a reference to the original dates of our data points, ensuring that after we make our predictions, we can accurately analyze and visualize the results in the context of their specific times in the dataset.\n"
   ]
  },
  {
   "cell_type": "code",
   "execution_count": null,
   "id": "fc0f032d-7eb2-471a-966c-bec3efabfb49",
   "metadata": {},
   "outputs": [
    {
     "name": "stdout",
     "output_type": "stream",
     "text": [
      "Training data index range: 0 to 5871\n",
      "Testing data index range: 5872 to 7340\n"
     ]
    }
   ],
   "source": [
    "\n",
    "# Retrieve the original indexes for train and test sets\n",
    "train_indexes = original_indexes[:len(y_train)]\n",
    "test_indexes = original_indexes[len(y_train):]\n",
    "\n",
    "# You can now use train_indexes and test_indexes as they contain the original DataFrame indexes\n",
    "print(f'Training data index range: {train_indexes.min()} to {train_indexes.max()}')\n",
    "print(f'Testing data index range: {test_indexes.min()} to {test_indexes.max()}')"
   ]
  },
  {
   "cell_type": "raw",
   "id": "24594ab8-b60a-4cce-b72f-dce2d8b2eb20",
   "metadata": {},
   "source": []
  },
  {
   "cell_type": "markdown",
   "id": "e26943f5-9e48-4abf-be9e-b44143fda5d4",
   "metadata": {},
   "source": [
    "### Model Predictions\n",
    "\n",
    "After training our regression model, we proceed to make predictions on both the training and testing datasets. These predictions will allow us to evaluate the model's performance by comparing the predicted stock prices against the actual closing prices. It's crucial to ensure that the predictions align with the original data's timeline, hence the index retrieval before this step.\n"
   ]
  },
  {
   "cell_type": "code",
   "execution_count": null,
   "id": "d23b80f0-bcaa-4333-9704-93b5753324eb",
   "metadata": {},
   "outputs": [],
   "source": [
    "# Predict on the training set for visualization purposes\n",
    "y_train_pred = model.predict(X_train)\n",
    "\n",
    "# Make predictions on the testing data\n",
    "y_test_pred = model.predict(X_test)"
   ]
  },
  {
   "cell_type": "raw",
   "id": "dbb44e66-c311-4463-9410-dd7b2596e1ec",
   "metadata": {},
   "source": []
  },
  {
   "cell_type": "markdown",
   "id": "e45f72f2-816c-466a-bffd-d61847653c5e",
   "metadata": {},
   "source": [
    "### Organizing and Inspecting Prediction Results\n",
    "\n",
    "In this section, we consolidate the predictions with the actual values into structured DataFrames, aligning them with their corresponding dates. This organization is essential for an intuitive inspection of the model's predictive accuracy. It also lays the groundwork for subsequent analysis, such as calculating error metrics and visualizing the results.\n"
   ]
  },
  {
   "cell_type": "code",
   "execution_count": null,
   "id": "77361b94-a1b3-46a7-89f5-bd9b92be1f89",
   "metadata": {},
   "outputs": [
    {
     "name": "stdout",
     "output_type": "stream",
     "text": [
      "train_results \n",
      "\n",
      "           Date  Actual_Close  Predicted_Close\n",
      "0    1995-01-03    459.109985       667.145371\n",
      "1    1995-01-04    460.709991       675.250452\n",
      "2    1995-01-05    460.339996       673.398711\n",
      "3    1995-01-06    460.679993       674.563202\n",
      "4    1995-01-09    460.829987       670.228492\n",
      "...         ...           ...              ...\n",
      "5867 2018-04-23   2670.290039      2913.400999\n",
      "5868 2018-04-24   2634.560059      2925.766888\n",
      "5869 2018-04-25   2639.399902      2846.865873\n",
      "5870 2018-04-26   2666.939941      2912.266104\n",
      "5871 2018-04-27   2669.909912      2878.095985\n",
      "\n",
      "[5872 rows x 3 columns] \n",
      " \n",
      "\n",
      "test_results \n",
      "\n",
      "           Date  Actual_Close  Predicted_Close\n",
      "0    2018-04-30   2648.050049      2880.951228\n",
      "1    2018-05-01   2654.800049      2862.861414\n",
      "2    2018-05-02   2635.669922      2834.173511\n",
      "3    2018-05-03   2629.729980      2827.491682\n",
      "4    2018-05-04   2663.419922      2999.733193\n",
      "...         ...           ...              ...\n",
      "1464 2024-02-23   5088.799805      8617.675638\n",
      "1465 2024-02-26   5069.529785      8548.768183\n",
      "1466 2024-02-27   5078.180176      8455.260613\n",
      "1467 2024-02-28   5069.759766      8470.372507\n",
      "1468 2024-02-29   5096.270020      8424.977497\n",
      "\n",
      "[1469 rows x 3 columns]\n"
     ]
    }
   ],
   "source": [
    "\n",
    "\n",
    "\n",
    "# Define train_dates and test_dates by indexing df['Date']\n",
    "train_dates = df['Date'].iloc[:len(y_train)].reset_index(drop=True)\n",
    "test_dates = df['Date'].iloc[-len(y_test):].reset_index(drop=True)\n",
    "\n",
    "# Create DataFrames for the training and test data predictions with dates\n",
    "train_results = pd.DataFrame({\n",
    "    'Date': train_dates,\n",
    "    'Actual_Close': y_train.reset_index(drop=True),\n",
    "    'Predicted_Close': y_train_pred\n",
    "})\n",
    "\n",
    "test_results = pd.DataFrame({\n",
    "    'Date': test_dates,\n",
    "    'Actual_Close': y_test.reset_index(drop=True),\n",
    "    'Predicted_Close': y_test_pred\n",
    "})\n",
    "\n",
    "# Now, let's try printing the head of these DataFrames to inspect\n",
    "print(\"train_results \\n\")\n",
    "print( train_results , \"\\n \\n\")\n",
    "\n",
    "print(\"test_results \\n\")\n",
    "print( test_results)\n"
   ]
  },
  {
   "cell_type": "raw",
   "id": "9334ba02-bee5-4f5b-8191-97c3c19119db",
   "metadata": {},
   "source": []
  },
  {
   "cell_type": "markdown",
   "id": "b4198ce6-fa3b-4313-945d-8bda33438152",
   "metadata": {},
   "source": [
    "### Performance Metrics Evaluation\n",
    "\n",
    "In this segment, we compute and display the performance metrics for both the training and testing datasets. This evaluation involves Mean Absolute Error (MAE), Mean Squared Error (MSE) and Root Mean Squared Error (RMSE). These metrics help to quantify the accuracy of our model and reveal how well the predictions match up with the actual stock prices.\n"
   ]
  },
  {
   "cell_type": "code",
   "execution_count": null,
   "id": "1f1ba682-2df4-4bb1-96e0-11cd22baab13",
   "metadata": {},
   "outputs": [
    {
     "name": "stdout",
     "output_type": "stream",
     "text": [
      "Training set metrics:\n",
      "Mean Absolute Error (MAE): 61.77\n",
      "Root Mean Squared Error (RMSE): 81.99\n",
      "Mean Absolute Percentage Error (MAPE): 5.77%\n",
      "\n",
      "Testing set metrics:\n",
      "Mean Absolute Error (MAE): 1301.87\n",
      "Root Mean Squared Error (RMSE): 1576.16\n",
      "Mean Absolute Percentage Error (MAPE): 32.09%\n"
     ]
    }
   ],
   "source": [
    "from sklearn.metrics import mean_absolute_error, mean_squared_error\n",
    "import numpy as np\n",
    "\n",
    "# Function to calculate MAPE\n",
    "def mean_absolute_percentage_error(y_true, y_pred): \n",
    "    return np.mean(np.abs((y_true - y_pred) / y_true)) * 100\n",
    "\n",
    "# Calculate metrics for the training set\n",
    "train_mae = mean_absolute_error(train_results['Actual_Close'], train_results['Predicted_Close'])\n",
    "train_rmse = np.sqrt(mean_squared_error(train_results['Actual_Close'], train_results['Predicted_Close']))\n",
    "train_mape = mean_absolute_percentage_error(train_results['Actual_Close'], train_results['Predicted_Close'])\n",
    "\n",
    "# Calculate metrics for the testing set\n",
    "test_mae = mean_absolute_error(test_results['Actual_Close'], test_results['Predicted_Close'])\n",
    "test_rmse = np.sqrt(mean_squared_error(test_results['Actual_Close'], test_results['Predicted_Close']))\n",
    "test_mape = mean_absolute_percentage_error(test_results['Actual_Close'], test_results['Predicted_Close'])\n",
    "\n",
    "# Print out the metrics for the training set\n",
    "print(\"Training set metrics:\")\n",
    "print(f\"Mean Absolute Error (MAE): {train_mae:.2f}\")\n",
    "print(f\"Root Mean Squared Error (RMSE): {train_rmse:.2f}\")\n",
    "print(f\"Mean Absolute Percentage Error (MAPE): {train_mape:.2f}%\")\n",
    "\n",
    "# Print out the metrics for the testing set\n",
    "print(\"\\nTesting set metrics:\")\n",
    "print(f\"Mean Absolute Error (MAE): {test_mae:.2f}\")\n",
    "print(f\"Root Mean Squared Error (RMSE): {test_rmse:.2f}\")\n",
    "print(f\"Mean Absolute Percentage Error (MAPE): {test_mape:.2f}%\")\n"
   ]
  },
  {
   "cell_type": "raw",
   "id": "4ac76dd0-ee38-41b0-be34-05bbccc56bdf",
   "metadata": {},
   "source": []
  },
  {
   "cell_type": "markdown",
   "id": "6ba2a7f2-9763-46a8-bcbe-0983fe4ab876",
   "metadata": {},
   "source": [
    "### Visualization of Model Predictions Against Actual Data\n",
    "\n",
    "In accordance with our project's aim to assess machine learning model efficacy, this visualization plots predicted stock prices from our model against the actual S&P 500 closing prices. The graph provides a visual representation of the model's performance over time, showcasing the alignment of predictions with real-world data. This step is crucial for a comprehensive evaluation, allowing for a clear, intuitive understanding of the model's predictive capabilities in both training and testing phases.\n"
   ]
  },
  {
   "cell_type": "code",
   "execution_count": null,
   "id": "34abe671-58c4-4660-b9fd-74533d15e03c",
   "metadata": {},
   "outputs": [
    {
     "data": {
      "image/png": "[encoded data removed]",
      "text/plain": [
       "<Figure size 1400x700 with 1 Axes>"
      ]
     },
     "metadata": {},
     "output_type": "display_data"
    }
   ],
   "source": [
    "\n",
    "import matplotlib.pyplot as plt\n",
    "import pandas as pd\n",
    "\n",
    "# Combine train and test results into a single DataFrame\n",
    "combined_results = pd.concat([train_results, test_results])\n",
    "\n",
    "# Convert 'Date' to datetime and sort by date to ensure correct plotting order\n",
    "combined_results['Date'] = pd.to_datetime(combined_results['Date'])\n",
    "combined_results.sort_values('Date', inplace=True)\n",
    "\n",
    "# Set 'Date' as the index for plotting\n",
    "combined_results.set_index('Date', inplace=True)\n",
    "\n",
    "# Plot the actual close prices\n",
    "plt.figure(figsize=(14,7))\n",
    "plt.plot(combined_results['Actual_Close'], label='Actual Close', color='blue')\n",
    "\n",
    "# Plot the training predictions - we use loc to select the train date range\n",
    "plt.plot(train_results['Date'], train_results['Predicted_Close'], label='Training Predictions', color='orange', linestyle='--')\n",
    "\n",
    "# Plot the testing predictions - we use loc to select the test date range\n",
    "plt.plot(test_results['Date'], test_results['Predicted_Close'], label='Testing Predictions', color='green', linestyle='--')\n",
    "\n",
    "# Add labels and title\n",
    "plt.xlabel('Date')\n",
    "plt.ylabel('Close Price')\n",
    "plt.title('Actual Close vs Predictions')\n",
    "plt.legend()\n",
    "plt.show()\n",
    "\n"
   ]
  },
  {
   "cell_type": "code",
   "execution_count": null,
   "id": "23647ff2-568c-4f59-bb03-dc9c1384cd41",
   "metadata": {},
   "outputs": [],
   "source": []
  }
 ],
 "metadata": {
  "kernelspec": {
   "display_name": ".venv",
   "language": "python",
   "name": "python3"
  },
  "language_info": {
   "codemirror_mode": {
    "name": "ipython",
    "version": 3
   },
   "file_extension": ".py",
   "mimetype": "text/x-python",
   "name": "python",
   "nbconvert_exporter": "python",
   "pygments_lexer": "ipython3",
   "version": "3.12.3"
  }
 },
 "nbformat": 4,
 "nbformat_minor": 5
}
